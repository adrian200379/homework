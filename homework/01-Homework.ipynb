{
 "cells": [
  {
   "cell_type": "markdown",
   "metadata": {},
   "source": [
    "# Exercice 01:\n",
    "\n",
    "The following exercice requires some understanding in the following subjects: \n",
    "- understand the notion of variable and data-types\n",
    "- read the user inputs \n",
    "- understand conditions in python\n",
    "- write some loops\n",
    "\n",
    "\n"
   ]
  },
  {
   "cell_type": "markdown",
   "metadata": {},
   "source": [
    "## 1. Review: \n",
    "\n",
    "### 1.a. Create two variables `time` and `distance` with the following values \"6.89\" and \"16.7\" . Compute the speed and save it in a variable called `speed` and print then the speed. "
   ]
  },
  {
   "cell_type": "code",
   "execution_count": 2,
   "metadata": {},
   "outputs": [
    {
     "name": "stdout",
     "output_type": "stream",
     "text": [
      "2.423802612481858\n"
     ]
    }
   ],
   "source": [
    "# 建立2个可变时间和距离带有\"6.89\" and \"16.7\"的值。计算速度并保存在\"speed\"下，然后输出speed\n",
    "time=6.89\n",
    "distance=16.7\n",
    "speed=distance/time\n",
    "print(speed)\n"
   ]
  },
  {
   "cell_type": "markdown",
   "metadata": {},
   "source": [
    "### 1.b. Create a list called `special_lst` with the following values: [12,8,9,13,11,10]. Compute the average value of all the value of the list with index and save it to a variable called `avg_special_lst` . "
   ]
  },
  {
   "cell_type": "code",
   "execution_count": 22,
   "metadata": {},
   "outputs": [
    {
     "name": "stdout",
     "output_type": "stream",
     "text": [
      "63\n",
      "10.5\n"
     ]
    }
   ],
   "source": [
    "# 建立一个叫\"special_lst\"的列表带有数值[12,8,9,13,11,10]。计算列表中所有数值的平均值，并带有索引并保存在变量avg_special_lst中。\n",
    "special_lst = [12,8,9,13,11,10]\n",
    "sum = 0\n",
    "for number in special_lst:\n",
    "    sum += number\n",
    "print(sum)\n",
    "avg_special_lst=sum/len(special_lst)\n",
    "print(avg_special_lst)\n"
   ]
  },
  {
   "cell_type": "markdown",
   "metadata": {},
   "source": [
    "### 1.c. Given the following variables: \n",
    "```python\n",
    "\n",
    "tiger = 'cat'\n",
    "lion = 'cat'\n",
    "kitty = 'cat'\n",
    "cheetah = 'cat' \n",
    "hyena = 'dog'\n",
    "wolf = 'dog' \n",
    "husky = 'dog'\n",
    "owl = 'bird' \n",
    "pigeon = 'bird'\n",
    "duck = 'bird'\n",
    "```\n",
    "\n",
    "What will be the value of the following variables? (try to do it in your head wihtout compiling the code试着在脑袋中思考而不是编译代码) \n",
    "\n",
    "```python\n",
    "\n",
    "is_tiger_a_cat = (tiger == 'cat')\n",
    "\n",
    "tiger_is_not_a_dog = (tiger != 'dog')\n",
    "\n",
    "a_duck_is_not_a_cat = (duck != 'cat')\n",
    "\n",
    "a_piegon_is_neither_a_cat_nor_a_dog = ((piegon != 'cat') and (piegon != 'dog'))\n",
    "\n",
    "a_wolf_is_a_bird = (wolf == 'bird')\n",
    "\n",
    "a_duck_is_a_pigeon = (duck == pigeon)\n",
    "\n",
    "owl_is_a_duck_or_a_cheetah = ((owl == duck) or (owl == cheetah)) \n",
    "\n",
    "husky_is_a_bird_or_duck_is_a_cat = ((husky == 'bird') or (duck == 'cat'))\n",
    "\n",
    "owl_is_a_duck_and_hyena_is_a_wolf = ((owl == duck) and (hyena == wolf))\n",
    "```\n",
    "\n"
   ]
  },
  {
   "cell_type": "markdown",
   "metadata": {},
   "source": [
    "## 2. Conditions"
   ]
  },
  {
   "cell_type": "code",
   "execution_count": null,
   "metadata": {},
   "outputs": [],
   "source": [
    "a= (\"fjk\")\n",
    "a"
   ]
  },
  {
   "cell_type": "markdown",
   "metadata": {},
   "source": [
    "### 2.a. Ask the user for an input (as Integer), save it to a variable called `user_number` and print if the entered number is an *odd* or an *even* number. \n"
   ]
  },
  {
   "cell_type": "code",
   "execution_count": 70,
   "metadata": {},
   "outputs": [
    {
     "name": "stdout",
     "output_type": "stream",
     "text": [
      "5\n",
      "weil die verbleibende nummer ist '1',deshalb 5 ist ein odd number.\n",
      "Danke\n"
     ]
    }
   ],
   "source": [
    "# Scenario examples: 询问使用者一个整数输入，保存它在一个叫user_number的变量中，当录入的数字是一个奇数或者是一个偶数的时候输出。\n",
    "user_number = int(input())\n",
    "number = user_number%2\n",
    "if number == 1:\n",
    "    print (\"weil die verbleibende nummer ist '1',deshalb {} ist ein odd number.\".format(user_number))\n",
    "elif number == 0:\n",
    "    print (\"weil die verbleibende nummer ist '0',deshalb {} ist ein even number.\".format(user_number))\n",
    "print ('Danke')\n"
   ]
  },
  {
   "cell_type": "markdown",
   "metadata": {},
   "source": [
    "### 2.b. Ask the user for 3 integer inputs `val_1`, `val_2` and `val_3` .  Create also a variable `val_min`. And then whith the help of if (elif, else) statement ,make the variable `val_min`get the *minimum value* of the `val_1` , `val_2` and `val_3`"
   ]
  },
  {
   "cell_type": "code",
   "execution_count": 77,
   "metadata": {},
   "outputs": [
    {
     "name": "stdout",
     "output_type": "stream",
     "text": [
      "4\n",
      "4\n",
      "6\n",
      "6\n",
      "8\n",
      "Das Minimum ist 4.\n",
      "Dankeschön!\n"
     ]
    }
   ],
   "source": [
    "# for example ilf val_1 = 3, val_2 = 4 and val_3 = 7 then val_min shoud be 3 \n",
    "# 询问使用者3个整数输入val_1, val_2 and val_3。再制作一个变量val_min，\n",
    "#  利用条件句of if (elif, else)制作变量val_min得到val_1, val_2 and val_3的最小值。\n",
    "val_1 = input()\n",
    "print(val_1)\n",
    "val_2 = input()\n",
    "print(val_2)\n",
    "val_3 = input()\n",
    "if val_1 > val_2:\n",
    "    if val_2 > val_3:\n",
    "        print (\"Das Minimum ist {}.\".format(val_3))\n",
    "    elif val_3 > val_1:\n",
    "        print (\"Das Minimum ist {}.\".format(val_2))\n",
    "else:\n",
    "    print (\"Das Minimum ist {}.\".format(val_1))\n",
    "print (\"Dankeschön!\")"
   ]
  },
  {
   "cell_type": "markdown",
   "metadata": {},
   "source": [
    "## 3. Loop:\n",
    "\n",
    "### 3.a. **Use `for`, `.split()`, and `if` to create a Statement that will print out words that start with 's':**\n",
    "\n"
   ]
  },
  {
   "cell_type": "code",
   "execution_count": 88,
   "metadata": {},
   "outputs": [
    {
     "name": "stdout",
     "output_type": "stream",
     "text": [
      "start\n",
      "s\n",
      "simple\n",
      "sentence\n"
     ]
    }
   ],
   "source": [
    "# it should print: \"start\", \"s\", \"simple\", \"sentence\"利用for, .split(), and if来制作循环语句输出以's'开头的语句。\n",
    "#st = 'Print only the words that start with s in this simple sentence'\n",
    "st = 'Print only the words that start with s in this simple sentence'\n",
    "st.split()\n",
    "\n",
    "for words in st.split():\n",
    "    if words[0]=='s':\n",
    "        print(words)\n",
    "   \n",
    "    "
   ]
  },
  {
   "cell_type": "markdown",
   "metadata": {},
   "source": [
    "### 3.b. Given a list l_list, delete all the `0` values in the list `l_list`. (hint: see the [methods for list in the python documentation](https://docs.python.org/3/tutorial/datastructures.html))"
   ]
  },
  {
   "cell_type": "code",
   "execution_count": 110,
   "metadata": {},
   "outputs": [
    {
     "name": "stdout",
     "output_type": "stream",
     "text": [
      "[2]\n",
      "[5]\n",
      "[8]\n",
      "[5]\n",
      "[2]\n",
      "[3]\n",
      "[9]\n",
      "[1]\n",
      "[5]\n",
      "[3]\n",
      "[11]\n",
      "[13]\n",
      "[5]\n"
     ]
    },
    {
     "ename": "IndexError",
     "evalue": "list index out of range",
     "output_type": "error",
     "traceback": [
      "\u001b[1;31m---------------------------------------------------------------------------\u001b[0m",
      "\u001b[1;31mIndexError\u001b[0m                                Traceback (most recent call last)",
      "\u001b[1;32m<ipython-input-110-d3aae59ab5e3>\u001b[0m in \u001b[0;36m<module>\u001b[1;34m\u001b[0m\n\u001b[0;32m      4\u001b[0m \u001b[0mb\u001b[0m \u001b[1;33m=\u001b[0m \u001b[1;34m''\u001b[0m\u001b[1;33m\u001b[0m\u001b[1;33m\u001b[0m\u001b[0m\n\u001b[0;32m      5\u001b[0m \u001b[1;32mwhile\u001b[0m \u001b[0ma\u001b[0m \u001b[1;33m<=\u001b[0m \u001b[0mlen\u001b[0m\u001b[1;33m(\u001b[0m\u001b[0ml_list\u001b[0m\u001b[1;33m)\u001b[0m\u001b[1;33m:\u001b[0m\u001b[1;33m\u001b[0m\u001b[1;33m\u001b[0m\u001b[0m\n\u001b[1;32m----> 6\u001b[1;33m     \u001b[0mb\u001b[0m \u001b[1;33m=\u001b[0m \u001b[0ml_list\u001b[0m\u001b[1;33m[\u001b[0m\u001b[0ma\u001b[0m\u001b[1;33m]\u001b[0m\u001b[1;33m\u001b[0m\u001b[1;33m\u001b[0m\u001b[0m\n\u001b[0m\u001b[0;32m      7\u001b[0m     \u001b[0ma\u001b[0m\u001b[1;33m+=\u001b[0m\u001b[1;36m1\u001b[0m\u001b[1;33m\u001b[0m\u001b[1;33m\u001b[0m\u001b[0m\n\u001b[0;32m      8\u001b[0m \u001b[1;33m\u001b[0m\u001b[0m\n",
      "\u001b[1;31mIndexError\u001b[0m: list index out of range"
     ]
    }
   ],
   "source": [
    "# here is the list l_list 制作一个列表l_list，删除所有在l_list中的0值。\n",
    "l_list = [ 2 , 5 , 8 , 0 , 0 , 0 , 0 , 0 , 5 , 2 , 3 , 9 , 1 , 5 , 3 , 0, 11, 13, 0, 5]\n",
    "a = 0\n",
    "b = ''\n",
    "while a <= len(l_list):\n",
    "    b = l_list[a]\n",
    "    a+=1\n",
    "    \n",
    "    if b == 0:\n",
    "        continue\n",
    "    elif b != 0:\n",
    "        print([b]) "
   ]
  },
  {
   "cell_type": "markdown",
   "metadata": {},
   "source": [
    "### 3.c. Use `for` loop to print an isosceles triangle with the character `*` . The user should be asked for a number and the the program print the triangle with the `*`character. "
   ]
  },
  {
   "cell_type": "code",
   "execution_count": 121,
   "metadata": {},
   "outputs": [
    {
     "name": "stdout",
     "output_type": "stream",
     "text": [
      "3\n",
      "\n"
     ]
    },
    {
     "ename": "TypeError",
     "evalue": "unsupported operand type(s) for +: 'NoneType' and 'str'",
     "output_type": "error",
     "traceback": [
      "\u001b[1;31m---------------------------------------------------------------------------\u001b[0m",
      "\u001b[1;31mTypeError\u001b[0m                                 Traceback (most recent call last)",
      "\u001b[1;32m<ipython-input-121-b691d54d6ba3>\u001b[0m in \u001b[0;36m<module>\u001b[1;34m\u001b[0m\n\u001b[0;32m     16\u001b[0m \u001b[0ma\u001b[0m \u001b[1;33m=\u001b[0m \u001b[0mint\u001b[0m\u001b[1;33m(\u001b[0m\u001b[0minput\u001b[0m\u001b[1;33m(\u001b[0m\u001b[1;33m)\u001b[0m\u001b[1;33m)\u001b[0m\u001b[1;33m\u001b[0m\u001b[1;33m\u001b[0m\u001b[0m\n\u001b[0;32m     17\u001b[0m \u001b[1;32mfor\u001b[0m \u001b[0mb\u001b[0m \u001b[1;32min\u001b[0m \u001b[0mrange\u001b[0m\u001b[1;33m(\u001b[0m\u001b[0ma\u001b[0m\u001b[1;33m)\u001b[0m\u001b[1;33m:\u001b[0m\u001b[1;33m\u001b[0m\u001b[1;33m\u001b[0m\u001b[0m\n\u001b[1;32m---> 18\u001b[1;33m     \u001b[0mprint\u001b[0m\u001b[1;33m(\u001b[0m\u001b[1;34m''\u001b[0m \u001b[1;33m*\u001b[0m \u001b[1;33m(\u001b[0m\u001b[0ma\u001b[0m\u001b[1;33m-\u001b[0m\u001b[0mb\u001b[0m\u001b[1;33m-\u001b[0m\u001b[1;36m1\u001b[0m\u001b[1;33m)\u001b[0m\u001b[1;33m)\u001b[0m \u001b[1;33m+\u001b[0m \u001b[1;34m'*'\u001b[0m \u001b[1;33m*\u001b[0m \u001b[1;33m(\u001b[0m\u001b[1;36m2\u001b[0m\u001b[1;33m*\u001b[0m\u001b[0mb\u001b[0m\u001b[1;33m+\u001b[0m\u001b[1;36m1\u001b[0m\u001b[1;33m)\u001b[0m\u001b[1;33m\u001b[0m\u001b[1;33m\u001b[0m\u001b[0m\n\u001b[0m",
      "\u001b[1;31mTypeError\u001b[0m: unsupported operand type(s) for +: 'NoneType' and 'str'"
     ]
    }
   ],
   "source": [
    "# if for example, the user type 3, the program should print this: \n",
    "# 利用循环语句输出带有*的等边三角形。使用者应该被询问数字和程序输出带有带有*的的三角形\n",
    "#         *\n",
    "#        ***\n",
    "#       *****\n",
    "#\n",
    "#\n",
    "#  if the user typed 5, the program should print this: \n",
    "#         *\n",
    "#        ***\n",
    "#       *****\n",
    "#      *******\n",
    "#     *********\n",
    "# and so on... \n",
    "\n",
    "a = int(input())\n",
    "for b in range(a):\n",
    "    print('' * (a-b-1)) + '*' * (2*b+1)"
   ]
  },
  {
   "cell_type": "code",
   "execution_count": null,
   "metadata": {},
   "outputs": [],
   "source": []
  },
  {
   "cell_type": "code",
   "execution_count": null,
   "metadata": {},
   "outputs": [],
   "source": [
    "2"
   ]
  }
 ],
 "metadata": {
  "kernelspec": {
   "display_name": "Python 3",
   "language": "python",
   "name": "python3"
  },
  "language_info": {
   "codemirror_mode": {
    "name": "ipython",
    "version": 3
   },
   "file_extension": ".py",
   "mimetype": "text/x-python",
   "name": "python",
   "nbconvert_exporter": "python",
   "pygments_lexer": "ipython3",
   "version": "3.7.4"
  }
 },
 "nbformat": 4,
 "nbformat_minor": 2
}
